{
 "cells": [
  {
   "cell_type": "code",
   "execution_count": 1,
   "id": "90343d68-6075-4cac-842d-9e994c9555d1",
   "metadata": {},
   "outputs": [
    {
     "name": "stdin",
     "output_type": "stream",
     "text": [
      "Enter first number  4\n",
      "Enter second number  8\n"
     ]
    },
    {
     "name": "stdout",
     "output_type": "stream",
     "text": [
      "4 is smaller than 8\n"
     ]
    }
   ],
   "source": [
    "num1 = int(input('Enter first number '))\n",
    "num2 = int(input('Enter second number '))\n",
    "\n",
    "if num1 >= num2:\n",
    "    if num1 == num2:\n",
    "        print(num1, 'and', num2, 'are equal')\n",
    "    else:\n",
    "        print(num1, 'is greater than', num2)\n",
    "else:\n",
    "    print(num1, 'is smaller than', num2)"
   ]
  },
  {
   "cell_type": "code",
   "execution_count": 5,
   "id": "a0c39da9-081e-4229-bf1d-5006213d2a47",
   "metadata": {},
   "outputs": [
    {
     "name": "stdout",
     "output_type": "stream",
     "text": [
      "positive\n"
     ]
    }
   ],
   "source": [
    "number = 8\n",
    "if number>0: print(\"positive\")\n",
    "else: print(\"negative\")"
   ]
  },
  {
   "cell_type": "code",
   "execution_count": 6,
   "id": "a3e249b2-76c3-42f9-92f4-09dfefc7d988",
   "metadata": {},
   "outputs": [
    {
     "name": "stdout",
     "output_type": "stream",
     "text": [
      "a is greater then b\n"
     ]
    }
   ],
   "source": [
    "a=200\n",
    "b=33\n",
    "if b>a:\n",
    "    print(\"b is greater than a\")\n",
    "elif a==b:\n",
    "    print(\"a and b are equal\")\n",
    "else:\n",
    "    print(\"a is greater then b\")"
   ]
  },
  {
   "cell_type": "code",
   "execution_count": 18,
   "id": "8d6e0b38-5bda-4802-b990-33442b09ef06",
   "metadata": {},
   "outputs": [
    {
     "name": "stdin",
     "output_type": "stream",
     "text": [
      "Enter a 3-digit number:  434\n"
     ]
    },
    {
     "name": "stdout",
     "output_type": "stream",
     "text": [
      "434 is a palindrome number.\n"
     ]
    }
   ],
   "source": [
    "#Q1\n",
    "\n",
    "num = input(\"Enter a 3-digit number: \")\n",
    "\n",
    "if len(num) == 3 and num == num[::-1]:\n",
    "    print(f\"{num} is a palindrome number.\")\n",
    "else:\n",
    "    print(f\"{num} is not a palindrome number.\")\n"
   ]
  },
  {
   "cell_type": "code",
   "execution_count": 31,
   "id": "6c225eaa-7aaf-4080-a459-2c79a5a2a3eb",
   "metadata": {},
   "outputs": [
    {
     "name": "stdin",
     "output_type": "stream",
     "text": [
      "Enter the first side of the triangle 1\n",
      "Enter the second side of the triangle 2\n",
      "Enter the third side of the triangle 3\n"
     ]
    },
    {
     "name": "stdout",
     "output_type": "stream",
     "text": [
      "Invalid\n"
     ]
    }
   ],
   "source": [
    "#Q2\n",
    "\n",
    "def checkValidity(a, b, c): \n",
    "    if (a + b <= c) or (a + c <= b) or (b + c <= a) : \n",
    "        return False\n",
    "    else: \n",
    "        return True          \n",
    "a = int(input(\"Enter the first side of the triangle\"))\n",
    "b = int(input(\"Enter the second side of the triangle\"))\n",
    "c = int(input(\"Enter the third side of the triangle\"))\n",
    "if checkValidity(a, b, c): \n",
    "    print(\"Valid\")  \n",
    "else: \n",
    "    print(\"Invalid\") "
   ]
  },
  {
   "cell_type": "code",
   "execution_count": 47,
   "id": "405c4a1c-2af5-4d06-b4ea-000cb90d5e78",
   "metadata": {},
   "outputs": [
    {
     "name": "stdin",
     "output_type": "stream",
     "text": [
      "Enter an Alphabet ViNaYaK\n"
     ]
    },
    {
     "name": "stdout",
     "output_type": "stream",
     "text": [
      "vInAyAk\n"
     ]
    }
   ],
   "source": [
    "#Q3\n",
    "\n",
    "str = (input(\"Enter an Alphabet\"))\n",
    "x = \"\"\n",
    "for i in str:\n",
    "    if(i.isupper()):\n",
    "        x += i.lower()\n",
    "    else:\n",
    "        x += i.upper()\n",
    "print(x)"
   ]
  },
  {
   "cell_type": "code",
   "execution_count": 53,
   "id": "620e289e-8081-4e64-b6d1-183082e4f288",
   "metadata": {},
   "outputs": [
    {
     "name": "stdin",
     "output_type": "stream",
     "text": [
      "Enter the value upto which you want to print the series 10\n"
     ]
    },
    {
     "name": "stdout",
     "output_type": "stream",
     "text": [
      "Fibonacci Series 0 1 1 2 3 5 8 13 21 34 "
     ]
    }
   ],
   "source": [
    "#Q4\n",
    "\n",
    "number= int(input(\"Enter the value upto which you want to print the series\"))\n",
    "n1=0\n",
    "n2=1\n",
    "print(\"Fibonacci Series\",n1,n2,end=\" \")\n",
    "for i in range(number-2):\n",
    "  n3=n1+n2\n",
    "  n1,n2=n2,n3\n",
    "  print(n3,end=\" \")"
   ]
  },
  {
   "cell_type": "code",
   "execution_count": 57,
   "id": "80ee8649-e312-411b-a30a-a92f1fd42a85",
   "metadata": {},
   "outputs": [
    {
     "name": "stdin",
     "output_type": "stream",
     "text": [
      "Enter a number :  500\n"
     ]
    },
    {
     "name": "stdout",
     "output_type": "stream",
     "text": [
      "2\n",
      "2\n",
      "5\n",
      "5\n",
      "5\n"
     ]
    }
   ],
   "source": [
    "#Q5\n",
    "\n",
    "import math\n",
    "def primeFactors(n):\n",
    "    while n % 2 == 0:\n",
    "        print(2)\n",
    "        n = n // 2\n",
    "    for i in range(3,int(math.sqrt(n))+1,2):\n",
    "        while n % i== 0:\n",
    "            print(i)\n",
    "            n = n // i\n",
    "    if n > 2:\n",
    "        print(n)\n",
    "n = int(input(\"Enter a number : \"))\n",
    "primeFactors(n)"
   ]
  },
  {
   "cell_type": "code",
   "execution_count": 67,
   "id": "8c128257-27f0-496c-b30c-62fee0514433",
   "metadata": {},
   "outputs": [
    {
     "name": "stdin",
     "output_type": "stream",
     "text": [
      "Enter a decimal number:  43\n",
      "Please input the number (1:Binary,2:Octal,3:Hexadecimal): 2\n"
     ]
    },
    {
     "name": "stdout",
     "output_type": "stream",
     "text": [
      "Equivalent representation: 53\n"
     ]
    }
   ],
   "source": [
    "#Q6\n",
    "\n",
    "def convert_number(choice, decimal_number):\n",
    "    switch_dict = {\n",
    "        1: bin(decimal_number)[2:],\n",
    "        2: oct(decimal_number)[2:],\n",
    "        3: hex(decimal_number)[2:]\n",
    "    }\n",
    "    return switch_dict.get(choice, \"Invalid choice\")\n",
    "try:\n",
    "        decimal_number = int(input(\"Enter a decimal number: \"))\n",
    "        choice = int(input(\"Please input the number (1:Binary,2:Octal,3:Hexadecimal):\"))\n",
    "\n",
    "        result = convert_number(choice, decimal_number)\n",
    "        print(f\"Equivalent representation: {result}\")\n",
    "except ValueError:\n",
    "        print(\"Invalid input. Enter a valid integer.\")"
   ]
  },
  {
   "cell_type": "code",
   "execution_count": 72,
   "id": "d23ad2e8-3fb8-4896-ade9-b69e7bcd2b50",
   "metadata": {},
   "outputs": [
    {
     "name": "stdin",
     "output_type": "stream",
     "text": [
      "Enter your guess low digit number-  7\n",
      "Enter your guess high digit number-  20\n"
     ]
    },
    {
     "name": "stdout",
     "output_type": "stream",
     "text": [
      "\n",
      "You've only  4  chances to guess the integer!\n",
      "\n"
     ]
    },
    {
     "name": "stdin",
     "output_type": "stream",
     "text": [
      "Guess a number:-  5\n"
     ]
    },
    {
     "name": "stdout",
     "output_type": "stream",
     "text": [
      "You guessed too small!\n"
     ]
    },
    {
     "name": "stdin",
     "output_type": "stream",
     "text": [
      "Guess a number:-  20\n"
     ]
    },
    {
     "name": "stdout",
     "output_type": "stream",
     "text": [
      "Congratulations you did it  2  try\n"
     ]
    }
   ],
   "source": [
    "#Q7\n",
    "\n",
    "import random\n",
    "import math\n",
    "\n",
    "low = int(input(\"Enter your guess low digit number- \"))\n",
    "\n",
    "high = int(input(\"Enter your guess high digit number- \"))\n",
    "\n",
    "x = random.randint(low, high)\n",
    "print(\"\\nYou've only \",round(math.log(high - low + 1, 2)),\" chances to guess the integer!\\n\")\n",
    "\n",
    "count = 0\n",
    "\n",
    "while count < math.log(high - low + 1, 2):\n",
    "\tcount += 1\n",
    "\tguess = int(input(\"Guess a number:- \"))\n",
    "\tif x == guess:\n",
    "\t\tprint(\"Congratulations you did it \",\n",
    "\t\t\tcount, \" try\")\n",
    "\t\tbreak\n",
    "\telif x > guess:\n",
    "\t\tprint(\"You guessed too small!\")\n",
    "\telif x < guess:\n",
    "\t\tprint(\"You Guessed too high!\")\n",
    "\n",
    "if count >= math.log(high - low + 1, 2):\n",
    "\tprint(\"\\nThe number is %d\" % x)\n",
    "\tprint(\"\\tBetter Luck Next time!\")\n",
    "\n"
   ]
  },
  {
   "cell_type": "code",
   "execution_count": 76,
   "id": "3c01bc10-1d6e-4aad-a759-142a13efa7f6",
   "metadata": {},
   "outputs": [
    {
     "name": "stdout",
     "output_type": "stream",
     "text": [
      "Hello to you too!\n"
     ]
    }
   ],
   "source": [
    "command = 'Hello, World!'\n",
    "match command:\n",
    "   case 'Hello, World!':\n",
    "       print('Hello to you too!')\n",
    "   case 'Goodbye, World!':\n",
    "       print('See you later')\n",
    "   case other:\n",
    "       print('No match found')"
   ]
  },
  {
   "cell_type": "code",
   "execution_count": null,
   "id": "8b166a7e-dc2a-49c4-a41d-06ddf71e9fb5",
   "metadata": {},
   "outputs": [],
   "source": []
  }
 ],
 "metadata": {
  "kernelspec": {
   "display_name": "Python 3 (ipykernel)",
   "language": "python",
   "name": "python3"
  },
  "language_info": {
   "codemirror_mode": {
    "name": "ipython",
    "version": 3
   },
   "file_extension": ".py",
   "mimetype": "text/x-python",
   "name": "python",
   "nbconvert_exporter": "python",
   "pygments_lexer": "ipython3",
   "version": "3.12.1"
  }
 },
 "nbformat": 4,
 "nbformat_minor": 5
}
